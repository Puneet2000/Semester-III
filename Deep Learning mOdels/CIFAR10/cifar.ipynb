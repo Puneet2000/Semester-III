{
 "cells": [
  {
   "cell_type": "code",
   "execution_count": 1,
   "metadata": {},
   "outputs": [],
   "source": [
    "import torch\n",
    "import torchvision\n",
    "import os\n",
    "import numpy as np\n",
    "import torchvision.transforms as transforms\n",
    "root = './data'\n",
    "if not os.path.exists(root):\n",
    "    os.mkdir(root)"
   ]
  },
  {
   "cell_type": "code",
   "execution_count": 109,
   "metadata": {},
   "outputs": [
    {
     "name": "stdout",
     "output_type": "stream",
     "text": [
      "Files already downloaded and verified\n",
      "Files already downloaded and verified\n",
      "10000\n",
      "10000\n"
     ]
    }
   ],
   "source": [
    "transform = transforms.Compose([transforms.ToTensor(),transforms.Normalize((0.5,0.5,0.5),(0.5,0.5,0.5))])\n",
    "trainset = torchvision.datasets.CIFAR10(root=root, train=False,transform=transform, download=True)\n",
    "trainloader = torch.utils.data.DataLoader(trainset, batch_size=4,\n",
    "                                          shuffle=True, num_workers=2)\n",
    "testset = torchvision.datasets.CIFAR10(root=root, train=False, transform=transform, download=True)\n",
    "testloader = torch.utils.data.DataLoader(testset, batch_size=4,\n",
    "                                         shuffle=False, num_workers=2)\n",
    "classes = ('Aeroplane','automobile','bird','cat','deer','dog','frog','horse','ship','truck')\n",
    "print(len(trainset))\n",
    "print(len(testset))"
   ]
  },
  {
   "cell_type": "code",
   "execution_count": 110,
   "metadata": {},
   "outputs": [
    {
     "data": {
      "image/png": "[encoded data removed]",
      "text/plain": [
       "<Figure size 432x288 with 1 Axes>"
      ]
     },
     "metadata": {},
     "output_type": "display_data"
    }
   ],
   "source": [
    "import matplotlib.pyplot as plt\n",
    "import numpy as np\n",
    "def imshow(img):\n",
    "    img = img/2 + 0.5     # unnormalize\n",
    "    npimg = img.numpy()\n",
    "    x = np.transpose(npimg, (1, 2, 0))\n",
    "    plt.imshow(x)\n",
    "\n",
    "dataiter = iter(trainloader)\n",
    "images, labels = dataiter.next()\n",
    "imshow(torchvision.utils.make_grid(images))"
   ]
  },
  {
   "cell_type": "code",
   "execution_count": 111,
   "metadata": {},
   "outputs": [],
   "source": [
    "import torch.nn as nn\n",
    "import torch.nn.functional as F\n",
    "class CIFAR10(nn.Module):\n",
    "    def __init__(self):\n",
    "        super(CIFAR10, self).__init__()\n",
    "        self.conv1 = nn.Conv2d(3, 6, 5)\n",
    "        self.conv2 = nn.Conv2d(6, 16, 5)\n",
    "        self.fc1 = nn.Linear(16*5*5, 120)\n",
    "        self.fc2 = nn.Linear(120, 84)\n",
    "        self.fc3 = nn.Linear(84, 10)\n",
    "\n",
    "    def forward(self, x):\n",
    "        x = F.relu(self.conv1(x))\n",
    "        x = F.max_pool2d(x, 2, 2)\n",
    "        x = F.relu(self.conv2(x))\n",
    "        x = F.max_pool2d(x, 2, 2)\n",
    "        x = x.view(-1, 5*5*16)\n",
    "        x = F.relu(self.fc1(x))\n",
    "        x = F.relu(self.fc2(x))\n",
    "        x = self.fc3(x)\n",
    "        return x\n",
    "    \n",
    "    def name(self):\n",
    "        return \"CIFAR10\"\n",
    "        "
   ]
  },
  {
   "cell_type": "code",
   "execution_count": 112,
   "metadata": {},
   "outputs": [],
   "source": [
    "import torch.optim as optim\n",
    "model = CIFAR10()\n",
    "optimizer = optim.SGD(model.parameters(), lr=0.001,momentum = 0.9)\n",
    "criterion = nn.CrossEntropyLoss()"
   ]
  },
  {
   "cell_type": "code",
   "execution_count": 113,
   "metadata": {},
   "outputs": [
    {
     "name": "stdout",
     "output_type": "stream",
     "text": [
      "[1,   200] loss: 2.301\n",
      "[1,   400] loss: 2.294\n",
      "[1,   600] loss: 2.270\n",
      "[1,   800] loss: 2.223\n",
      "[1,  1000] loss: 2.168\n",
      "[1,  1200] loss: 2.098\n",
      "[1,  1400] loss: 2.026\n",
      "[1,  1600] loss: 1.964\n",
      "[1,  1800] loss: 1.925\n",
      "[1,  2000] loss: 1.973\n",
      "[1,  2200] loss: 1.906\n",
      "[1,  2400] loss: 1.883\n",
      "[2,   200] loss: 1.787\n",
      "[2,   400] loss: 1.791\n",
      "[2,   600] loss: 1.749\n",
      "[2,   800] loss: 1.786\n",
      "[2,  1000] loss: 1.708\n",
      "[2,  1200] loss: 1.802\n",
      "[2,  1400] loss: 1.718\n",
      "[2,  1600] loss: 1.709\n",
      "[2,  1800] loss: 1.679\n",
      "[2,  2000] loss: 1.651\n",
      "[2,  2200] loss: 1.652\n",
      "[2,  2400] loss: 1.595\n",
      "[3,   200] loss: 1.560\n",
      "[3,   400] loss: 1.592\n",
      "[3,   600] loss: 1.579\n",
      "[3,   800] loss: 1.564\n",
      "[3,  1000] loss: 1.509\n",
      "[3,  1200] loss: 1.531\n",
      "[3,  1400] loss: 1.555\n",
      "[3,  1600] loss: 1.525\n",
      "[3,  1800] loss: 1.531\n",
      "[3,  2000] loss: 1.525\n",
      "[3,  2200] loss: 1.537\n",
      "[3,  2400] loss: 1.530\n",
      "[4,   200] loss: 1.484\n",
      "[4,   400] loss: 1.464\n",
      "[4,   600] loss: 1.382\n",
      "[4,   800] loss: 1.424\n",
      "[4,  1000] loss: 1.500\n",
      "[4,  1200] loss: 1.446\n",
      "[4,  1400] loss: 1.406\n",
      "[4,  1600] loss: 1.434\n",
      "[4,  1800] loss: 1.397\n",
      "[4,  2000] loss: 1.434\n",
      "[4,  2200] loss: 1.508\n",
      "[4,  2400] loss: 1.409\n",
      "[5,   200] loss: 1.284\n",
      "[5,   400] loss: 1.369\n",
      "[5,   600] loss: 1.322\n",
      "[5,   800] loss: 1.386\n",
      "[5,  1000] loss: 1.360\n",
      "[5,  1200] loss: 1.384\n",
      "[5,  1400] loss: 1.324\n",
      "[5,  1600] loss: 1.248\n",
      "[5,  1800] loss: 1.352\n",
      "[5,  2000] loss: 1.319\n",
      "[5,  2200] loss: 1.314\n",
      "[5,  2400] loss: 1.358\n",
      "[6,   200] loss: 1.251\n",
      "[6,   400] loss: 1.202\n",
      "[6,   600] loss: 1.241\n",
      "[6,   800] loss: 1.268\n",
      "[6,  1000] loss: 1.268\n",
      "[6,  1200] loss: 1.232\n",
      "[6,  1400] loss: 1.287\n",
      "[6,  1600] loss: 1.346\n",
      "[6,  1800] loss: 1.272\n",
      "[6,  2000] loss: 1.281\n",
      "[6,  2200] loss: 1.242\n",
      "[6,  2400] loss: 1.198\n",
      "[7,   200] loss: 1.121\n",
      "[7,   400] loss: 1.142\n",
      "[7,   600] loss: 1.160\n",
      "[7,   800] loss: 1.201\n",
      "[7,  1000] loss: 1.140\n",
      "[7,  1200] loss: 1.214\n",
      "[7,  1400] loss: 1.160\n",
      "[7,  1600] loss: 1.228\n",
      "[7,  1800] loss: 1.219\n",
      "[7,  2000] loss: 1.153\n",
      "[7,  2200] loss: 1.179\n",
      "[7,  2400] loss: 1.252\n",
      "[8,   200] loss: 1.060\n",
      "[8,   400] loss: 1.076\n",
      "[8,   600] loss: 1.068\n",
      "[8,   800] loss: 1.058\n",
      "[8,  1000] loss: 1.093\n",
      "[8,  1200] loss: 1.163\n",
      "[8,  1400] loss: 1.088\n",
      "[8,  1600] loss: 1.054\n",
      "[8,  1800] loss: 1.192\n",
      "[8,  2000] loss: 1.163\n",
      "[8,  2200] loss: 1.118\n",
      "[8,  2400] loss: 1.140\n",
      "[9,   200] loss: 0.945\n",
      "[9,   400] loss: 1.028\n",
      "[9,   600] loss: 0.994\n",
      "[9,   800] loss: 1.011\n",
      "[9,  1000] loss: 1.036\n",
      "[9,  1200] loss: 1.015\n",
      "[9,  1400] loss: 1.075\n",
      "[9,  1600] loss: 1.111\n",
      "[9,  1800] loss: 1.002\n",
      "[9,  2000] loss: 1.119\n",
      "[9,  2200] loss: 1.072\n",
      "[9,  2400] loss: 1.046\n",
      "[10,   200] loss: 0.909\n",
      "[10,   400] loss: 0.885\n",
      "[10,   600] loss: 0.882\n",
      "[10,   800] loss: 0.932\n",
      "[10,  1000] loss: 0.898\n",
      "[10,  1200] loss: 0.919\n",
      "[10,  1400] loss: 0.915\n",
      "[10,  1600] loss: 1.015\n",
      "[10,  1800] loss: 0.939\n",
      "[10,  2000] loss: 1.031\n",
      "[10,  2200] loss: 1.040\n",
      "[10,  2400] loss: 0.966\n",
      "Finished Training\n"
     ]
    }
   ],
   "source": [
    "for epoch in range(10):\n",
    "    # trainning\n",
    "    ave_loss = 0\n",
    "    for i,data in enumerate(trainloader,0):\n",
    "        inputs, label = data\n",
    "        optimizer.zero_grad()\n",
    "        out = model(inputs)\n",
    "        loss = criterion(out,label)\n",
    "        loss.backward()\n",
    "        optimizer.step()\n",
    "        ave_loss+= loss.item()\n",
    "        if i % 200 == 199:    # print every 200 mini-batches\n",
    "            print('[%d, %5d] loss: %.3f' %\n",
    "                  (epoch + 1, i + 1, ave_loss / 200))\n",
    "            ave_loss = 0.0\n",
    "print(\"Finished Training\")"
   ]
  },
  {
   "cell_type": "code",
   "execution_count": 114,
   "metadata": {},
   "outputs": [
    {
     "name": "stdout",
     "output_type": "stream",
     "text": [
      "10000\n",
      "7000\n",
      "70.0\n"
     ]
    }
   ],
   "source": [
    "correct = 0\n",
    "total = 0\n",
    "with torch.no_grad():\n",
    "    for data in testloader:\n",
    "        images, labels = data\n",
    "        outputs = model(images)\n",
    "        _, predicted = torch.max(outputs.data, 1)\n",
    "        total += labels.size(0)\n",
    "        correct += (predicted == labels).sum().item()\n",
    "print(total)\n",
    "print(correct)\n",
    "print(100 * correct / total)"
   ]
  },
  {
   "cell_type": "code",
   "execution_count": null,
   "metadata": {},
   "outputs": [],
   "source": []
  },
  {
   "cell_type": "code",
   "execution_count": null,
   "metadata": {},
   "outputs": [],
   "source": []
  }
 ],
 "metadata": {
  "kernelspec": {
   "display_name": "Python 3",
   "language": "python",
   "name": "python3"
  },
  "language_info": {
   "codemirror_mode": {
    "name": "ipython",
    "version": 3
   },
   "file_extension": ".py",
   "mimetype": "text/x-python",
   "name": "python",
   "nbconvert_exporter": "python",
   "pygments_lexer": "ipython3",
   "version": "3.6.5"
  }
 },
 "nbformat": 4,
 "nbformat_minor": 2
}
